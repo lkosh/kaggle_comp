{
 "cells": [
  {
   "cell_type": "code",
   "execution_count": 2,
   "metadata": {
    "collapsed": false
   },
   "outputs": [
    {
     "name": "stderr",
     "output_type": "stream",
     "text": [
      "Using Theano backend.\n",
      "Using gpu device 0: GeForce GT 740M (CNMeM is disabled, cuDNN not available)\n"
     ]
    }
   ],
   "source": [
    "import pandas as pd\n",
    "import numpy as np\n",
    "import pylab as pl\n",
    "import mpl_toolkits.basemap as bm\n",
    "import csv\n",
    "import os\n",
    "from skimage.transform import resize, rescale\n",
    "from skimage.color import rgb2gray\n",
    "import json\n",
    "import keras\n",
    "from sklearn.cross_validation import train_test_split\n",
    "from keras.layers import Dropout \n",
    "from keras.layers import Convolution2D, MaxPooling2D, Flatten\n",
    "from keras.layers.normalization import BatchNormalization\n",
    "from keras.callbacks import LearningRateScheduler\n",
    "from keras.callbacks import EarlyStopping\n",
    "from keras.models import Sequential\n",
    "from keras.layers import Dense, Dropout, Activation\n",
    "from keras.optimizers import SGD\n",
    "from keras.preprocessing.image import ImageDataGenerator\n",
    "import theano\n",
    "import skimage.io as io\n",
    "from skimage.io import imread"
   ]
  },
  {
   "cell_type": "code",
   "execution_count": null,
   "metadata": {
    "collapsed": true
   },
   "outputs": [],
   "source": [
    "# Функции для перевода символьного представления лэйбла класса в числовое и обратно"
   ]
  },
  {
   "cell_type": "code",
   "execution_count": 3,
   "metadata": {
    "collapsed": true
   },
   "outputs": [],
   "source": [
    "def label2int(ch):\n",
    "    asciiVal = ord(ch)\n",
    "    if(asciiVal<=57): #0-9\n",
    "        asciiVal-=48\n",
    "    elif(asciiVal<=90): #A-Z\n",
    "        asciiVal-=55\n",
    "    else: #a-z\n",
    "        asciiVal-=61\n",
    "    return asciiVal\n",
    "    \n",
    "def int2label(i):\n",
    "    if(i<=9): #0-9\n",
    "        i+=48\n",
    "    elif(i<=35): #A-Z\n",
    "        i+=55\n",
    "    else: #a-z\n",
    "        i+=61\n",
    "    return chr(i)"
   ]
  },
  {
   "cell_type": "code",
   "execution_count": null,
   "metadata": {
    "collapsed": true
   },
   "outputs": [],
   "source": [
    "#Функция обучения классификатора"
   ]
  },
  {
   "cell_type": "code",
   "execution_count": 70,
   "metadata": {
    "collapsed": false
   },
   "outputs": [],
   "source": [
    "def train_classifier():\n",
    "    #Выкачиваем данные из csv-файла и переводим в numpy представление \n",
    "    TRAINING_SET_PATH = \"trainLabels.csv\"\n",
    "    df_train = pd.read_csv(TRAINING_SET_PATH, sep=\",\", header=0)\n",
    "    train_labels_pd =df_train[u'Class'] \n",
    "    train_labels =  train_labels_pd.as_matrix()\n",
    "\n",
    "    TRAIN_IMG_PATH = 'train'\n",
    "\n",
    "    n_samples = train_labels.shape[0]\n",
    "#train_Features - массив картинок тренировочной выборки\n",
    "    train_Features = np.empty((n_samples,32,32), float)\n",
    "\n",
    "    for i in range(1,n_samples):\n",
    "        img = io.imread(TRAIN_IMG_PATH  + '/' + str(i) + '.Bmp')\n",
    "        #Так как часть картинок - цветная, а часть - черно/белая, сделаем все изображения черно-белыми  \n",
    "        img = rgb2gray(img)\n",
    "        # приводим все изображения к одному размеру. Размер изображения - компромисс между точностью классификации и \n",
    "        # временем работы алгоритма\n",
    "        img = resize(img,(32,32))\n",
    "\n",
    "        train_Features[i-1] = img\n",
    "    # переводим лэйблы классов в числовое представление\n",
    "    train_labels_new = np.zeros((n_samples,62), int)\n",
    "    for i in range(n_samples):\n",
    "\n",
    "        k = label2int(train_labels[i]) \n",
    "        train_labels_new[i][k] = 1\n",
    "\n",
    "    n_classes = len(set(train_labels))\n",
    "# Объект ImageDataGenerator используется для размножения данных (поворот, смещение изображений тренировочной выборки)\n",
    "\n",
    "    datagen = ImageDataGenerator(\n",
    "            rotation_range = 20,\n",
    "            width_shift_range = 0.15,\n",
    "            height_shift_range = 0.15,\n",
    "            shear_range = 0.4,\n",
    "            zoom_range = 0.3,                    \n",
    "            channel_shift_range = 0.1)\n",
    "            \n",
    "\n",
    "    # Задаем количество эпох, равно 100. Хотелось бы усовершенствовать алгоритм, например, увеличив количество эпох и добавив\n",
    "    # добавив постепенное уменьшение learning rate и остановку в момент, когда loss достигает плато, однако в связи с большим\n",
    "    # временем обучения и недостатком мощности моего компьютера, я решила ограничиваться более простым вариантом\n",
    "    nb_epoch = 100\n",
    "  \n",
    "    train_Features = train_Features.reshape(-1, 1, 32, 32)\n",
    "    # делим выборку на тренировочную и тестовую\n",
    "    X_train, X_val, y_train, y_val = train_test_split(train_Features, train_labels_new, test_size=0.2, random_state=42)\n",
    "   \n",
    "    model = Sequential()\n",
    "    #Архитектура сети : (Convo - Convo - Pooling) х 2 -> (Convo) х 3 -> Pooling -> (FC) х 3\n",
    "    # идея архитектуры взята из лекций стэндфорда (http://cs231n.github.io/convolutional-networks/) и изменена для конкретной\n",
    "    # задачи\n",
    "    model.add(Convolution2D(128, 3, 3, border_mode='same', init='he_normal', activation = 'relu', input_shape=(1, 32, 32)))\n",
    "    model.add(Convolution2D(128, 3, 3, border_mode='same', init='he_normal', activation = 'relu'))\n",
    "\n",
    "    model.add(MaxPooling2D(pool_size=(2, 2)))\n",
    "\n",
    "    model.add(Convolution2D(256, 3, 3, border_mode='same', init='he_normal', activation = 'relu'))\n",
    "    model.add(Convolution2D(256, 3, 3, border_mode='same', init='he_normal', activation = 'relu'))\n",
    "\n",
    "    model.add(MaxPooling2D(pool_size=(2, 2)))\n",
    "\n",
    "    model.add(Convolution2D(512, 3, 3, border_mode='same', init='he_normal', activation = 'relu'))\n",
    "    model.add(Convolution2D(512, 3, 3, border_mode='same', init='he_normal', activation = 'relu'))\n",
    "    model.add(Convolution2D(512, 3, 3, border_mode='same', init='he_normal', activation = 'relu'))\n",
    "\n",
    "    model.add(MaxPooling2D(pool_size=(2, 2)))\n",
    "\n",
    "    model.add(Flatten())\n",
    "    model.add(Dense(4096, init='he_normal', activation = 'relu'))\n",
    "    model.add(Dropout(0.5))\n",
    "    model.add(Dense(4096, init='he_normal', activation = 'relu'))\n",
    "    model.add(Dropout(0.5))\n",
    "    model.add(Dense(62, init='he_normal', activation = 'softmax'))\n",
    "    # Задаем параметры модели\n",
    "    model.compile(loss='categorical_crossentropy', \n",
    "                  optimizer='adadelta',  \n",
    "                  metrics=[\"accuracy\"])\n",
    "    # Обучаем модель на тренировочной выборки, оценивая качество на валидационной. При этом данные размножаются в процессе\n",
    "    # обучения\n",
    "    model.fit_generator(datagen.flow(X_train, y_train, batch_size=128),\n",
    "                        samples_per_epoch=len(X_train),\n",
    "                        nb_epoch=nb_epoch, \n",
    "                        validation_data=(X_val, y_val),\n",
    "                        verbose=1)\n",
    "\n",
    "\n",
    "    return model\n"
   ]
  },
  {
   "cell_type": "code",
   "execution_count": null,
   "metadata": {
    "collapsed": true
   },
   "outputs": [],
   "source": [
    "# функция классификации "
   ]
  },
  {
   "cell_type": "code",
   "execution_count": 4,
   "metadata": {
    "collapsed": false
   },
   "outputs": [],
   "source": [
    "def classify(model):\n",
    "    TEST_IMG_PATH = 'test'\n",
    "    # n - количество изображений тестовой выборки\n",
    "    n = 12504 - 6284 \n",
    "    # приводим изображения тестовой выборки к тому же виду, что и тренировочные изображения\n",
    "    Images = np.empty((n,32,32), float)\n",
    "    for i in range(6284, 12504):\n",
    "        img = io.imread(TEST_IMG_PATH + '/' + str(i) + '.Bmp')\n",
    "        img = rgb2gray(img)\n",
    "        img = resize(img,(32,32))\n",
    "        Images[i - 6284] = img\n",
    "\n",
    "    Images = Images.reshape(-1,1,32,32)\n",
    "# получаем предсказания классов, к которым относятся изображения тестовой выборки \n",
    "    labels = model.predict_classes(Images)\n",
    "# переводим метки классов в символьное представоение\n",
    "    vInt2label = np.vectorize(int2label)\n",
    "    Y_test_pred = vInt2label(labels)\n",
    "#сохраняем результаты в формате, требуемым системой kaggle\n",
    "    path = 'predictions'\n",
    "    np.savetxt(path+\"/avg_pred.csv\", np.c_[range(6284,len(Y_test_pred)+6284),Y_test_pred], delimiter=',', header = 'ID,Class', comments = '', fmt='%s')"
   ]
  },
  {
   "cell_type": "code",
   "execution_count": null,
   "metadata": {
    "collapsed": true
   },
   "outputs": [],
   "source": [
    "# вызываем функции обучения классификатора и классификации изображений\n",
    "model = train_classifier()\n",
    "classify(model)"
   ]
  },
  {
   "cell_type": "code",
   "execution_count": null,
   "metadata": {
    "collapsed": true
   },
   "outputs": [],
   "source": []
  }
 ],
 "metadata": {
  "kernelspec": {
   "display_name": "Python [Root]",
   "language": "python",
   "name": "Python [Root]"
  },
  "language_info": {
   "codemirror_mode": {
    "name": "ipython",
    "version": 2
   },
   "file_extension": ".py",
   "mimetype": "text/x-python",
   "name": "python",
   "nbconvert_exporter": "python",
   "pygments_lexer": "ipython2",
   "version": "2.7.12"
  }
 },
 "nbformat": 4,
 "nbformat_minor": 0
}
